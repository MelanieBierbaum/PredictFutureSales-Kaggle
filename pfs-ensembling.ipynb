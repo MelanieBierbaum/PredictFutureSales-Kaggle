{
 "cells": [
  {
   "cell_type": "code",
   "execution_count": 1,
   "metadata": {
    "_cell_guid": "b1076dfc-b9ad-4769-8c92-a6c4dae69d19",
    "_uuid": "8f2839f25d086af736a60e9eeb907d3b93b6e0e5",
    "execution": {
     "iopub.execute_input": "2020-10-16T12:40:36.810507Z",
     "iopub.status.busy": "2020-10-16T12:40:36.809668Z",
     "iopub.status.idle": "2020-10-16T12:40:38.819763Z",
     "shell.execute_reply": "2020-10-16T12:40:38.818707Z"
    },
    "papermill": {
     "duration": 2.061619,
     "end_time": "2020-10-16T12:40:38.819963",
     "exception": false,
     "start_time": "2020-10-16T12:40:36.758344",
     "status": "completed"
    },
    "tags": []
   },
   "outputs": [
    {
     "name": "stdout",
     "output_type": "stream",
     "text": [
      "Python version: 3.7.6 | packaged by conda-forge | (default, Mar 23 2020, 23:03:20) \n",
      "[GCC 7.3.0]\n",
      "NumPy version: 1.18.5\n",
      "pandas version: 1.1.2\n",
      "matplotlib version: 3.2.1\n",
      "scikit-learn version: 0.23.2\n",
      "----------\n",
      "/kaggle/input/competitive-data-science-predict-future-sales/sample_submission.csv\n",
      "/kaggle/input/competitive-data-science-predict-future-sales/shops.csv\n",
      "/kaggle/input/competitive-data-science-predict-future-sales/items.csv\n",
      "/kaggle/input/competitive-data-science-predict-future-sales/item_categories.csv\n",
      "/kaggle/input/competitive-data-science-predict-future-sales/sales_train.csv\n",
      "/kaggle/input/competitive-data-science-predict-future-sales/test.csv\n",
      "/kaggle/input/pfs-model/finalized_model.sav\n",
      "/kaggle/input/pfs-model/__results__.html\n",
      "/kaggle/input/pfs-model/submission.csv\n",
      "/kaggle/input/pfs-model/predictionsLGB.csv\n",
      "/kaggle/input/pfs-model/__notebook__.ipynb\n",
      "/kaggle/input/pfs-model/custom.css\n",
      "/kaggle/input/pfs-model/__output__.json\n",
      "/kaggle/input/pfs-model/__results___files/__results___16_0.png\n",
      "/kaggle/input/x-train-level2/X_train_level2.csv\n",
      "/kaggle/input/pfs-featureengineering1/__results__.html\n",
      "/kaggle/input/pfs-featureengineering1/all_data_withFeatures.pkl\n",
      "/kaggle/input/pfs-featureengineering1/__notebook__.ipynb\n",
      "/kaggle/input/pfs-featureengineering1/custom.css\n",
      "/kaggle/input/pfs-featureengineering1/__output__.json\n",
      "/kaggle/input/predictionslgb/predictionsLGB.csv\n"
     ]
    }
   ],
   "source": [
    "# This Python 3 environment comes with many helpful analytics libraries installed\n",
    "# It is defined by the kaggle/python Docker image: https://github.com/kaggle/docker-python\n",
    "\n",
    "# load packages\n",
    "import sys # access to system parameters https://docs.python.org/3/library/sys.html\n",
    "print(\"Python version: {}\". format(sys.version))\n",
    "\n",
    "import numpy as np # scientific computing\n",
    "print(\"NumPy version: {}\". format(np.__version__))\n",
    "\n",
    "import pandas as pd # data processing and analysis \n",
    "print(\"pandas version: {}\". format(pd.__version__))\n",
    "\n",
    "import matplotlib\n",
    "import matplotlib.pyplot as plt # plotting\n",
    "%matplotlib inline \n",
    "print(\"matplotlib version: {}\". format(matplotlib.__version__))\n",
    " \n",
    "import sklearn # machine learning algorithms\n",
    "print(\"scikit-learn version: {}\". format(sklearn.__version__))\n",
    "\n",
    "from itertools import product\n",
    "from xgboost import XGBRegressor\n",
    "from xgboost import plot_importance\n",
    "import lightgbm as lgb\n",
    "from sklearn.linear_model import LinearRegression\n",
    "from sklearn.metrics import mean_squared_error\n",
    "from sklearn.metrics import r2_score\n",
    "import time\n",
    "from sklearn.preprocessing import LabelEncoder\n",
    "from sklearn.preprocessing import StandardScaler\n",
    "\n",
    "print(\"----------\")\n",
    "\n",
    "# Input data files are available in the read-only \"../input/\" directory\n",
    "# For example, running this (by clicking run or pressing Shift+Enter) will list all files under the input directory\n",
    "\n",
    "import os\n",
    "for dirname, _, filenames in os.walk('/kaggle/input'):\n",
    "    for filename in filenames:\n",
    "        print(os.path.join(dirname, filename))\n",
    "\n",
    "# You can write up to 5GB to the current directory (/kaggle/working/) that gets preserved as output when you create a version using \"Save & Run All\" \n",
    "# You can also write temporary files to /kaggle/temp/, but they won't be saved outside of the current session"
   ]
  },
  {
   "cell_type": "markdown",
   "metadata": {
    "papermill": {
     "duration": 0.028105,
     "end_time": "2020-10-16T12:40:38.878616",
     "exception": false,
     "start_time": "2020-10-16T12:40:38.850511",
     "status": "completed"
    },
    "tags": []
   },
   "source": [
    "# Load Data"
   ]
  },
  {
   "cell_type": "code",
   "execution_count": 2,
   "metadata": {
    "_cell_guid": "79c7e3d0-c299-4dcb-8224-4455121ee9b0",
    "_uuid": "d629ff2d2480ee46fbb7e2d37f6b5fab8052498a",
    "execution": {
     "iopub.execute_input": "2020-10-16T12:40:38.944112Z",
     "iopub.status.busy": "2020-10-16T12:40:38.943325Z",
     "iopub.status.idle": "2020-10-16T12:40:45.939445Z",
     "shell.execute_reply": "2020-10-16T12:40:45.938645Z"
    },
    "papermill": {
     "duration": 7.031171,
     "end_time": "2020-10-16T12:40:45.939574",
     "exception": false,
     "start_time": "2020-10-16T12:40:38.908403",
     "status": "completed"
    },
    "tags": []
   },
   "outputs": [
    {
     "data": {
      "text/html": [
       "<div>\n",
       "<style scoped>\n",
       "    .dataframe tbody tr th:only-of-type {\n",
       "        vertical-align: middle;\n",
       "    }\n",
       "\n",
       "    .dataframe tbody tr th {\n",
       "        vertical-align: top;\n",
       "    }\n",
       "\n",
       "    .dataframe thead th {\n",
       "        text-align: right;\n",
       "    }\n",
       "</style>\n",
       "<table border=\"1\" class=\"dataframe\">\n",
       "  <thead>\n",
       "    <tr style=\"text-align: right;\">\n",
       "      <th></th>\n",
       "      <th>shop_id</th>\n",
       "      <th>item_id</th>\n",
       "      <th>date_block_num</th>\n",
       "      <th>target</th>\n",
       "      <th>item_target_enc_kf</th>\n",
       "      <th>item_target_enc_loo</th>\n",
       "      <th>item_target_enc_sm</th>\n",
       "      <th>item_target_enc_ems</th>\n",
       "      <th>item_category_id</th>\n",
       "      <th>days_per_month</th>\n",
       "      <th>...</th>\n",
       "      <th>monthly_transactions_lag_4</th>\n",
       "      <th>monthly_transactions_lag_5</th>\n",
       "      <th>monthly_transactions_lag_12</th>\n",
       "      <th>price_trend</th>\n",
       "      <th>acc_price_lag</th>\n",
       "      <th>name_sqbrac</th>\n",
       "      <th>name_brac</th>\n",
       "      <th>word1</th>\n",
       "      <th>word12</th>\n",
       "      <th>type</th>\n",
       "    </tr>\n",
       "  </thead>\n",
       "  <tbody>\n",
       "    <tr>\n",
       "      <th>0</th>\n",
       "      <td>59</td>\n",
       "      <td>22154</td>\n",
       "      <td>0</td>\n",
       "      <td>1.0</td>\n",
       "      <td>0.084746</td>\n",
       "      <td>0.108209</td>\n",
       "      <td>0.145052</td>\n",
       "      <td>0.333984</td>\n",
       "      <td>37</td>\n",
       "      <td>31</td>\n",
       "      <td>...</td>\n",
       "      <td>0.0</td>\n",
       "      <td>0.0</td>\n",
       "      <td>0.0</td>\n",
       "      <td>0.0</td>\n",
       "      <td>0.0</td>\n",
       "      <td>4</td>\n",
       "      <td>548</td>\n",
       "      <td>4293</td>\n",
       "      <td>8301</td>\n",
       "      <td>0</td>\n",
       "    </tr>\n",
       "    <tr>\n",
       "      <th>1</th>\n",
       "      <td>59</td>\n",
       "      <td>2552</td>\n",
       "      <td>0</td>\n",
       "      <td>0.0</td>\n",
       "      <td>0.021583</td>\n",
       "      <td>0.018248</td>\n",
       "      <td>0.102396</td>\n",
       "      <td>0.333984</td>\n",
       "      <td>58</td>\n",
       "      <td>31</td>\n",
       "      <td>...</td>\n",
       "      <td>0.0</td>\n",
       "      <td>0.0</td>\n",
       "      <td>0.0</td>\n",
       "      <td>0.0</td>\n",
       "      <td>0.0</td>\n",
       "      <td>4</td>\n",
       "      <td>41</td>\n",
       "      <td>292</td>\n",
       "      <td>530</td>\n",
       "      <td>0</td>\n",
       "    </tr>\n",
       "    <tr>\n",
       "      <th>2</th>\n",
       "      <td>59</td>\n",
       "      <td>2554</td>\n",
       "      <td>0</td>\n",
       "      <td>0.0</td>\n",
       "      <td>0.333984</td>\n",
       "      <td>0.022727</td>\n",
       "      <td>0.237230</td>\n",
       "      <td>0.333984</td>\n",
       "      <td>58</td>\n",
       "      <td>31</td>\n",
       "      <td>...</td>\n",
       "      <td>0.0</td>\n",
       "      <td>0.0</td>\n",
       "      <td>0.0</td>\n",
       "      <td>0.0</td>\n",
       "      <td>0.0</td>\n",
       "      <td>4</td>\n",
       "      <td>41</td>\n",
       "      <td>292</td>\n",
       "      <td>530</td>\n",
       "      <td>0</td>\n",
       "    </tr>\n",
       "    <tr>\n",
       "      <th>3</th>\n",
       "      <td>59</td>\n",
       "      <td>2555</td>\n",
       "      <td>0</td>\n",
       "      <td>0.0</td>\n",
       "      <td>0.056995</td>\n",
       "      <td>0.066508</td>\n",
       "      <td>0.094802</td>\n",
       "      <td>0.333984</td>\n",
       "      <td>56</td>\n",
       "      <td>31</td>\n",
       "      <td>...</td>\n",
       "      <td>0.0</td>\n",
       "      <td>0.0</td>\n",
       "      <td>0.0</td>\n",
       "      <td>0.0</td>\n",
       "      <td>0.0</td>\n",
       "      <td>4</td>\n",
       "      <td>1511</td>\n",
       "      <td>292</td>\n",
       "      <td>530</td>\n",
       "      <td>0</td>\n",
       "    </tr>\n",
       "    <tr>\n",
       "      <th>4</th>\n",
       "      <td>59</td>\n",
       "      <td>2564</td>\n",
       "      <td>0</td>\n",
       "      <td>0.0</td>\n",
       "      <td>0.040307</td>\n",
       "      <td>0.058599</td>\n",
       "      <td>0.089614</td>\n",
       "      <td>0.333984</td>\n",
       "      <td>59</td>\n",
       "      <td>31</td>\n",
       "      <td>...</td>\n",
       "      <td>0.0</td>\n",
       "      <td>0.0</td>\n",
       "      <td>0.0</td>\n",
       "      <td>0.0</td>\n",
       "      <td>0.0</td>\n",
       "      <td>4</td>\n",
       "      <td>1124</td>\n",
       "      <td>292</td>\n",
       "      <td>530</td>\n",
       "      <td>0</td>\n",
       "    </tr>\n",
       "  </tbody>\n",
       "</table>\n",
       "<p>5 rows × 51 columns</p>\n",
       "</div>"
      ],
      "text/plain": [
       "   shop_id  item_id  date_block_num  target  item_target_enc_kf  \\\n",
       "0       59    22154               0     1.0            0.084746   \n",
       "1       59     2552               0     0.0            0.021583   \n",
       "2       59     2554               0     0.0            0.333984   \n",
       "3       59     2555               0     0.0            0.056995   \n",
       "4       59     2564               0     0.0            0.040307   \n",
       "\n",
       "   item_target_enc_loo  item_target_enc_sm  item_target_enc_ems  \\\n",
       "0             0.108209            0.145052             0.333984   \n",
       "1             0.018248            0.102396             0.333984   \n",
       "2             0.022727            0.237230             0.333984   \n",
       "3             0.066508            0.094802             0.333984   \n",
       "4             0.058599            0.089614             0.333984   \n",
       "\n",
       "   item_category_id  days_per_month  ...  monthly_transactions_lag_4  \\\n",
       "0                37              31  ...                         0.0   \n",
       "1                58              31  ...                         0.0   \n",
       "2                58              31  ...                         0.0   \n",
       "3                56              31  ...                         0.0   \n",
       "4                59              31  ...                         0.0   \n",
       "\n",
       "   monthly_transactions_lag_5  monthly_transactions_lag_12  price_trend  \\\n",
       "0                         0.0                          0.0          0.0   \n",
       "1                         0.0                          0.0          0.0   \n",
       "2                         0.0                          0.0          0.0   \n",
       "3                         0.0                          0.0          0.0   \n",
       "4                         0.0                          0.0          0.0   \n",
       "\n",
       "   acc_price_lag  name_sqbrac  name_brac  word1  word12  type  \n",
       "0            0.0            4        548   4293    8301     0  \n",
       "1            0.0            4         41    292     530     0  \n",
       "2            0.0            4         41    292     530     0  \n",
       "3            0.0            4       1511    292     530     0  \n",
       "4            0.0            4       1124    292     530     0  \n",
       "\n",
       "[5 rows x 51 columns]"
      ]
     },
     "execution_count": 2,
     "metadata": {},
     "output_type": "execute_result"
    }
   ],
   "source": [
    "# read csv file into data frames\n",
    "#df_items = pd.read_csv('../input/competitive-data-science-predict-future-sales/items.csv')\n",
    "#df_shops = pd.read_csv('../input/competitive-data-science-predict-future-sales/shops.csv') # read cleaned version instead later\n",
    "#df_sales = pd.read_csv('../input/competitive-data-science-predict-future-sales/sales_train.csv')\n",
    "df_test = pd.read_csv('../input/competitive-data-science-predict-future-sales/test.csv')\n",
    "#df_item_cat = pd.read_csv('../input/competitive-data-science-predict-future-sales/item_categories.csv')\n",
    "#df_sample_submission = pd.read_csv('../input/competitive-data-science-predict-future-sales/sample_submission.csv')\n",
    "\n",
    "# my versions\n",
    "all_data = pd.read_pickle('../input/pfs-featureengineering1/all_data_withFeatures.pkl')\n",
    "all_data.head()"
   ]
  },
  {
   "cell_type": "markdown",
   "metadata": {
    "papermill": {
     "duration": 0.029014,
     "end_time": "2020-10-16T12:40:45.998023",
     "exception": false,
     "start_time": "2020-10-16T12:40:45.969009",
     "status": "completed"
    },
    "tags": []
   },
   "source": [
    "# First Level Models\n",
    "Lightgbm data comes from PFS-model, my main modelling notebook. Here a Linear Regression is added as second first level model."
   ]
  },
  {
   "cell_type": "code",
   "execution_count": 3,
   "metadata": {
    "execution": {
     "iopub.execute_input": "2020-10-16T12:40:46.064194Z",
     "iopub.status.busy": "2020-10-16T12:40:46.063080Z",
     "iopub.status.idle": "2020-10-16T12:40:46.067560Z",
     "shell.execute_reply": "2020-10-16T12:40:46.066818Z"
    },
    "papermill": {
     "duration": 0.040117,
     "end_time": "2020-10-16T12:40:46.067686",
     "exception": false,
     "start_time": "2020-10-16T12:40:46.027569",
     "status": "completed"
    },
    "tags": []
   },
   "outputs": [
    {
     "data": {
      "text/plain": [
       "Index(['shop_id', 'item_id', 'date_block_num', 'target', 'item_target_enc_kf',\n",
       "       'item_target_enc_loo', 'item_target_enc_sm', 'item_target_enc_ems',\n",
       "       'item_category_id', 'days_per_month', 'month', 'city_code',\n",
       "       'item_bcat_code', 'item_scat_code', 'target_lag_1', 'target_lag_2',\n",
       "       'target_lag_3', 'target_lag_4', 'target_lag_5', 'target_lag_12',\n",
       "       'month_item_sum_lag_1', 'month_item_sum_lag_2', 'month_item_sum_lag_3',\n",
       "       'month_item_sum_lag_4', 'month_item_sum_lag_5', 'month_item_sum_lag_12',\n",
       "       'month_shop_sum_lag_1', 'month_shop_sum_lag_2', 'month_shop_sum_lag_3',\n",
       "       'month_shop_sum_lag_4', 'month_shop_sum_lag_5', 'month_shop_sum_lag_12',\n",
       "       'month_sum_lag_1', 'month_sum_lag_2', 'month_sum_lag_3',\n",
       "       'month_sum_lag_4', 'month_sum_lag_5', 'month_sum_lag_12',\n",
       "       'monthly_transactions_lag_1', 'monthly_transactions_lag_2',\n",
       "       'monthly_transactions_lag_3', 'monthly_transactions_lag_4',\n",
       "       'monthly_transactions_lag_5', 'monthly_transactions_lag_12',\n",
       "       'price_trend', 'acc_price_lag', 'name_sqbrac', 'name_brac', 'word1',\n",
       "       'word12', 'type'],\n",
       "      dtype='object')"
      ]
     },
     "execution_count": 3,
     "metadata": {},
     "output_type": "execute_result"
    }
   ],
   "source": [
    "all_data.columns"
   ]
  },
  {
   "cell_type": "code",
   "execution_count": 4,
   "metadata": {
    "execution": {
     "iopub.execute_input": "2020-10-16T12:40:46.138146Z",
     "iopub.status.busy": "2020-10-16T12:40:46.137056Z",
     "iopub.status.idle": "2020-10-16T12:40:46.140016Z",
     "shell.execute_reply": "2020-10-16T12:40:46.139244Z"
    },
    "papermill": {
     "duration": 0.042386,
     "end_time": "2020-10-16T12:40:46.140151",
     "exception": false,
     "start_time": "2020-10-16T12:40:46.097765",
     "status": "completed"
    },
    "tags": []
   },
   "outputs": [],
   "source": [
    "#select columns for training data\n",
    "columns = ['shop_id', 'item_id', 'date_block_num', #'item_target_enc_kf',\n",
    "       #'item_target_enc_loo', 'item_target_enc_sm', 'item_target_enc_ems',\n",
    "       'item_category_id', 'days_per_month', 'month', 'city_code',\n",
    "       'item_bcat_code', 'item_scat_code', 'target_lag_1', 'target_lag_2',\n",
    "       'target_lag_3', 'target_lag_4', 'target_lag_5', 'target_lag_12',\n",
    "       'month_item_sum_lag_1', 'month_item_sum_lag_2', 'month_item_sum_lag_3',\n",
    "       'month_item_sum_lag_4', 'month_item_sum_lag_5', 'month_item_sum_lag_12',\n",
    "       'month_shop_sum_lag_1', 'month_shop_sum_lag_2', 'month_shop_sum_lag_3',\n",
    "       'month_shop_sum_lag_4', 'month_shop_sum_lag_5', 'month_shop_sum_lag_12',\n",
    "       'month_sum_lag_1', 'month_sum_lag_2', 'month_sum_lag_3',\n",
    "       'month_sum_lag_4', 'month_sum_lag_5', 'month_sum_lag_12',\n",
    "       'monthly_transactions_lag_1', 'monthly_transactions_lag_2',\n",
    "       'monthly_transactions_lag_3', 'monthly_transactions_lag_4',\n",
    "       'monthly_transactions_lag_5', 'monthly_transactions_lag_12',\n",
    "       'price_trend', 'acc_price_lag', 'name_sqbrac', 'name_brac', #'word1',\n",
    "       #'word12', 'type'\n",
    "          ]\n",
    "if 'target' in columns:\n",
    "    print(\"You are a stuipd moron!\")"
   ]
  },
  {
   "cell_type": "code",
   "execution_count": 5,
   "metadata": {
    "execution": {
     "iopub.execute_input": "2020-10-16T12:40:46.213197Z",
     "iopub.status.busy": "2020-10-16T12:40:46.211484Z",
     "iopub.status.idle": "2020-10-16T12:40:48.139118Z",
     "shell.execute_reply": "2020-10-16T12:40:48.138439Z"
    },
    "papermill": {
     "duration": 1.968548,
     "end_time": "2020-10-16T12:40:48.139262",
     "exception": false,
     "start_time": "2020-10-16T12:40:46.170714",
     "status": "completed"
    },
    "tags": []
   },
   "outputs": [],
   "source": [
    "# lets use month 33 as validation data and month 3/12-32 as training data, drop frist months due to lag feature\n",
    "\n",
    "X_val = all_data[all_data.date_block_num == 33] # month 33 data\n",
    "y_val = X_val[\"target\"]\n",
    "X_val = X_val[columns]\n",
    "\n",
    "#X_train = all_data[(all_data.date_block_num >2) & (all_data.date_block_num < 33)] # month 3-32 data\n",
    "X_train = all_data[(all_data.date_block_num >11) & (all_data.date_block_num < 33)] # month 12-32 data\n",
    "y_train = X_train[\"target\"]\n",
    "X_train = X_train[columns]\n",
    "\n",
    "X_test = all_data[all_data.date_block_num == 34][columns]"
   ]
  },
  {
   "cell_type": "code",
   "execution_count": 6,
   "metadata": {
    "execution": {
     "iopub.execute_input": "2020-10-16T12:40:48.215096Z",
     "iopub.status.busy": "2020-10-16T12:40:48.209905Z",
     "iopub.status.idle": "2020-10-16T12:40:48.233006Z",
     "shell.execute_reply": "2020-10-16T12:40:48.233525Z"
    },
    "papermill": {
     "duration": 0.063258,
     "end_time": "2020-10-16T12:40:48.233679",
     "exception": false,
     "start_time": "2020-10-16T12:40:48.170421",
     "status": "completed"
    },
    "tags": []
   },
   "outputs": [
    {
     "data": {
      "text/html": [
       "<div>\n",
       "<style scoped>\n",
       "    .dataframe tbody tr th:only-of-type {\n",
       "        vertical-align: middle;\n",
       "    }\n",
       "\n",
       "    .dataframe tbody tr th {\n",
       "        vertical-align: top;\n",
       "    }\n",
       "\n",
       "    .dataframe thead th {\n",
       "        text-align: right;\n",
       "    }\n",
       "</style>\n",
       "<table border=\"1\" class=\"dataframe\">\n",
       "  <thead>\n",
       "    <tr style=\"text-align: right;\">\n",
       "      <th></th>\n",
       "      <th>shop_id</th>\n",
       "      <th>item_id</th>\n",
       "      <th>date_block_num</th>\n",
       "      <th>item_category_id</th>\n",
       "      <th>days_per_month</th>\n",
       "      <th>month</th>\n",
       "      <th>city_code</th>\n",
       "      <th>item_bcat_code</th>\n",
       "      <th>item_scat_code</th>\n",
       "      <th>target_lag_1</th>\n",
       "      <th>...</th>\n",
       "      <th>monthly_transactions_lag_1</th>\n",
       "      <th>monthly_transactions_lag_2</th>\n",
       "      <th>monthly_transactions_lag_3</th>\n",
       "      <th>monthly_transactions_lag_4</th>\n",
       "      <th>monthly_transactions_lag_5</th>\n",
       "      <th>monthly_transactions_lag_12</th>\n",
       "      <th>price_trend</th>\n",
       "      <th>acc_price_lag</th>\n",
       "      <th>name_sqbrac</th>\n",
       "      <th>name_brac</th>\n",
       "    </tr>\n",
       "  </thead>\n",
       "  <tbody>\n",
       "    <tr>\n",
       "      <th>4488710</th>\n",
       "      <td>54</td>\n",
       "      <td>10297</td>\n",
       "      <td>12</td>\n",
       "      <td>37</td>\n",
       "      <td>31</td>\n",
       "      <td>1</td>\n",
       "      <td>25</td>\n",
       "      <td>5</td>\n",
       "      <td>1</td>\n",
       "      <td>3.0</td>\n",
       "      <td>...</td>\n",
       "      <td>143245.0</td>\n",
       "      <td>96736.0</td>\n",
       "      <td>0.0</td>\n",
       "      <td>0.0</td>\n",
       "      <td>0.0</td>\n",
       "      <td>0.0</td>\n",
       "      <td>-0.010032</td>\n",
       "      <td>0.037453</td>\n",
       "      <td>4</td>\n",
       "      <td>548</td>\n",
       "    </tr>\n",
       "    <tr>\n",
       "      <th>4488711</th>\n",
       "      <td>54</td>\n",
       "      <td>10296</td>\n",
       "      <td>12</td>\n",
       "      <td>38</td>\n",
       "      <td>31</td>\n",
       "      <td>1</td>\n",
       "      <td>25</td>\n",
       "      <td>5</td>\n",
       "      <td>1</td>\n",
       "      <td>0.0</td>\n",
       "      <td>...</td>\n",
       "      <td>143245.0</td>\n",
       "      <td>0.0</td>\n",
       "      <td>0.0</td>\n",
       "      <td>0.0</td>\n",
       "      <td>0.0</td>\n",
       "      <td>0.0</td>\n",
       "      <td>0.000000</td>\n",
       "      <td>0.084995</td>\n",
       "      <td>4</td>\n",
       "      <td>337</td>\n",
       "    </tr>\n",
       "    <tr>\n",
       "      <th>4488712</th>\n",
       "      <td>54</td>\n",
       "      <td>10298</td>\n",
       "      <td>12</td>\n",
       "      <td>40</td>\n",
       "      <td>31</td>\n",
       "      <td>1</td>\n",
       "      <td>25</td>\n",
       "      <td>5</td>\n",
       "      <td>4</td>\n",
       "      <td>21.0</td>\n",
       "      <td>...</td>\n",
       "      <td>143245.0</td>\n",
       "      <td>96736.0</td>\n",
       "      <td>94202.0</td>\n",
       "      <td>0.0</td>\n",
       "      <td>0.0</td>\n",
       "      <td>0.0</td>\n",
       "      <td>0.006816</td>\n",
       "      <td>0.438594</td>\n",
       "      <td>4</td>\n",
       "      <td>41</td>\n",
       "    </tr>\n",
       "    <tr>\n",
       "      <th>4488713</th>\n",
       "      <td>54</td>\n",
       "      <td>10300</td>\n",
       "      <td>12</td>\n",
       "      <td>37</td>\n",
       "      <td>31</td>\n",
       "      <td>1</td>\n",
       "      <td>25</td>\n",
       "      <td>5</td>\n",
       "      <td>1</td>\n",
       "      <td>1.0</td>\n",
       "      <td>...</td>\n",
       "      <td>143245.0</td>\n",
       "      <td>96736.0</td>\n",
       "      <td>94202.0</td>\n",
       "      <td>0.0</td>\n",
       "      <td>0.0</td>\n",
       "      <td>0.0</td>\n",
       "      <td>-0.006491</td>\n",
       "      <td>0.160869</td>\n",
       "      <td>4</td>\n",
       "      <td>548</td>\n",
       "    </tr>\n",
       "    <tr>\n",
       "      <th>4488714</th>\n",
       "      <td>54</td>\n",
       "      <td>10284</td>\n",
       "      <td>12</td>\n",
       "      <td>57</td>\n",
       "      <td>31</td>\n",
       "      <td>1</td>\n",
       "      <td>25</td>\n",
       "      <td>7</td>\n",
       "      <td>8</td>\n",
       "      <td>0.0</td>\n",
       "      <td>...</td>\n",
       "      <td>143245.0</td>\n",
       "      <td>96736.0</td>\n",
       "      <td>94202.0</td>\n",
       "      <td>96137.0</td>\n",
       "      <td>104772.0</td>\n",
       "      <td>0.0</td>\n",
       "      <td>-0.124060</td>\n",
       "      <td>-0.073800</td>\n",
       "      <td>4</td>\n",
       "      <td>763</td>\n",
       "    </tr>\n",
       "  </tbody>\n",
       "</table>\n",
       "<p>5 rows × 43 columns</p>\n",
       "</div>"
      ],
      "text/plain": [
       "         shop_id  item_id  date_block_num  item_category_id  days_per_month  \\\n",
       "4488710       54    10297              12                37              31   \n",
       "4488711       54    10296              12                38              31   \n",
       "4488712       54    10298              12                40              31   \n",
       "4488713       54    10300              12                37              31   \n",
       "4488714       54    10284              12                57              31   \n",
       "\n",
       "         month  city_code  item_bcat_code  item_scat_code  target_lag_1  ...  \\\n",
       "4488710      1         25               5               1           3.0  ...   \n",
       "4488711      1         25               5               1           0.0  ...   \n",
       "4488712      1         25               5               4          21.0  ...   \n",
       "4488713      1         25               5               1           1.0  ...   \n",
       "4488714      1         25               7               8           0.0  ...   \n",
       "\n",
       "         monthly_transactions_lag_1  monthly_transactions_lag_2  \\\n",
       "4488710                    143245.0                     96736.0   \n",
       "4488711                    143245.0                         0.0   \n",
       "4488712                    143245.0                     96736.0   \n",
       "4488713                    143245.0                     96736.0   \n",
       "4488714                    143245.0                     96736.0   \n",
       "\n",
       "         monthly_transactions_lag_3  monthly_transactions_lag_4  \\\n",
       "4488710                         0.0                         0.0   \n",
       "4488711                         0.0                         0.0   \n",
       "4488712                     94202.0                         0.0   \n",
       "4488713                     94202.0                         0.0   \n",
       "4488714                     94202.0                     96137.0   \n",
       "\n",
       "         monthly_transactions_lag_5  monthly_transactions_lag_12  price_trend  \\\n",
       "4488710                         0.0                          0.0    -0.010032   \n",
       "4488711                         0.0                          0.0     0.000000   \n",
       "4488712                         0.0                          0.0     0.006816   \n",
       "4488713                         0.0                          0.0    -0.006491   \n",
       "4488714                    104772.0                          0.0    -0.124060   \n",
       "\n",
       "         acc_price_lag  name_sqbrac  name_brac  \n",
       "4488710       0.037453            4        548  \n",
       "4488711       0.084995            4        337  \n",
       "4488712       0.438594            4         41  \n",
       "4488713       0.160869            4        548  \n",
       "4488714      -0.073800            4        763  \n",
       "\n",
       "[5 rows x 43 columns]"
      ]
     },
     "execution_count": 6,
     "metadata": {},
     "output_type": "execute_result"
    }
   ],
   "source": [
    "X_train.head()"
   ]
  },
  {
   "cell_type": "raw",
   "metadata": {
    "papermill": {
     "duration": 0.031898,
     "end_time": "2020-10-16T12:40:48.297574",
     "exception": false,
     "start_time": "2020-10-16T12:40:48.265676",
     "status": "completed"
    },
    "tags": []
   },
   "source": [
    "Using MinMaxScaler on numeric columns (transformcolumns) did not improve the R2. Neither did using StandardScaler. R2 was 0.1548.\n",
    "\n",
    "Using only the numeric columns as features produced an R2 of 0.152318.\n",
    "\n",
    "I still cant figure out why the R2 is so much higher in the PAw4.\n",
    "\n",
    "Using the same features (but I dont have lag5 and lag12!) as they have gave an R2 of 0.147213\n",
    "\n",
    "Using all shops in the  PAw4 code led to a worse r2 in linear regression. It dropped to 0.255. (was 0.74318 before with only shop_id 26,27,28)\n",
    "\n",
    "Interestingly R2 was also worse for lightgbm. Did not expect that as \"my\" lightgbm has good RMSE (but I did never measure R2)\n",
    "\n",
    "Let's just use this bad Linear REgression and finish the ensembling task.\n",
    "\n"
   ]
  },
  {
   "cell_type": "code",
   "execution_count": 7,
   "metadata": {
    "execution": {
     "iopub.execute_input": "2020-10-16T12:40:48.372325Z",
     "iopub.status.busy": "2020-10-16T12:40:48.371552Z",
     "iopub.status.idle": "2020-10-16T12:40:56.616218Z",
     "shell.execute_reply": "2020-10-16T12:40:56.615219Z"
    },
    "papermill": {
     "duration": 8.286705,
     "end_time": "2020-10-16T12:40:56.616389",
     "exception": false,
     "start_time": "2020-10-16T12:40:48.329684",
     "status": "completed"
    },
    "tags": []
   },
   "outputs": [
    {
     "name": "stdout",
     "output_type": "stream",
     "text": [
      "Test R-squared for linreg is 0.150965\n",
      "Test RMSE for linreg is 1.046888\n"
     ]
    },
    {
     "data": {
      "text/plain": [
       "8.240033864974976"
      ]
     },
     "execution_count": 7,
     "metadata": {},
     "output_type": "execute_result"
    }
   ],
   "source": [
    "ts = time.time()\n",
    "\n",
    "lr = LinearRegression()\n",
    "lr.fit(X_train, y_train)\n",
    "pred_lr = lr.predict(X_val)\n",
    "print('Test R-squared for linreg is %f' % r2_score(y_val, pred_lr))\n",
    "print('Test RMSE for linreg is %f' % mean_squared_error(y_val, pred_lr,squared=False))\n",
    "\n",
    "time.time() - ts"
   ]
  },
  {
   "cell_type": "code",
   "execution_count": 8,
   "metadata": {
    "execution": {
     "iopub.execute_input": "2020-10-16T12:40:56.687917Z",
     "iopub.status.busy": "2020-10-16T12:40:56.687132Z",
     "iopub.status.idle": "2020-10-16T12:40:56.694664Z",
     "shell.execute_reply": "2020-10-16T12:40:56.693744Z"
    },
    "papermill": {
     "duration": 0.046016,
     "end_time": "2020-10-16T12:40:56.694821",
     "exception": false,
     "start_time": "2020-10-16T12:40:56.648805",
     "status": "completed"
    },
    "tags": []
   },
   "outputs": [
    {
     "name": "stdout",
     "output_type": "stream",
     "text": [
      "39.931746517029744\n",
      "-10.64046232904296\n",
      "Coefficients: \n",
      " [-1.04145219e-03 -3.50770611e-06 -2.61877469e-03  7.25949022e-03\n",
      "  5.04764359e-04  1.39737457e-02  3.12124747e-03 -1.02352354e-01\n",
      " -9.08891275e-04  5.57969979e-02  1.86081362e-02  9.36381070e-03\n",
      "  2.98650553e-03 -2.14334304e-03 -1.63623186e-02  2.27514913e-03\n",
      "  7.20784092e-05  1.95003474e-04  6.22529643e-05 -5.81822762e-05\n",
      "  2.65767754e-04  1.04875135e-04  2.09077719e-05  2.81181602e-06\n",
      " -7.62203508e-06 -7.32896979e-06 -2.16077499e-06 -5.46762630e-07\n",
      " -1.53610921e-07  5.46343875e-06 -1.21568517e-06  3.53137681e-06\n",
      " -1.10225862e-06 -8.16825011e-07 -7.84732117e-07 -7.28399323e-06\n",
      "  1.27488274e-06 -4.67615604e-06  8.86498589e-07  4.25591357e-05\n",
      "  1.00709442e-01  4.68303509e-04 -9.14861817e-05]\n",
      "Intercept: \n",
      " 0.5453412402890511\n"
     ]
    }
   ],
   "source": [
    "print(pred_lr.max())\n",
    "print(pred_lr.min())\n",
    "print('Coefficients: \\n', lr.coef_)\n",
    "print('Intercept: \\n', lr.intercept_)"
   ]
  },
  {
   "cell_type": "code",
   "execution_count": 9,
   "metadata": {
    "execution": {
     "iopub.execute_input": "2020-10-16T12:40:56.773741Z",
     "iopub.status.busy": "2020-10-16T12:40:56.772488Z",
     "iopub.status.idle": "2020-10-16T12:41:06.236308Z",
     "shell.execute_reply": "2020-10-16T12:41:06.235691Z"
    },
    "papermill": {
     "duration": 9.505002,
     "end_time": "2020-10-16T12:41:06.236445",
     "exception": false,
     "start_time": "2020-10-16T12:40:56.731443",
     "status": "completed"
    },
    "tags": []
   },
   "outputs": [
    {
     "data": {
      "text/plain": [
       "9.45840859413147"
      ]
     },
     "execution_count": 9,
     "metadata": {},
     "output_type": "execute_result"
    }
   ],
   "source": [
    "# run linear regression again with X_train + X_val, i.e. data from month 12-33\n",
    "ts = time.time()\n",
    "X_train_n = all_data[(all_data.date_block_num >11) & (all_data.date_block_num < 34)]\n",
    "y_train_n = X_train_n[\"target\"]\n",
    "X_train_n = X_train_n[columns]\n",
    "\n",
    "lr = LinearRegression()\n",
    "lr.fit(X_train_n, y_train_n)\n",
    "pred1stlevel_lr = lr.predict(X_test)\n",
    "\n",
    "time.time() - ts"
   ]
  },
  {
   "cell_type": "code",
   "execution_count": 10,
   "metadata": {
    "execution": {
     "iopub.execute_input": "2020-10-16T12:41:06.312232Z",
     "iopub.status.busy": "2020-10-16T12:41:06.311409Z",
     "iopub.status.idle": "2020-10-16T12:41:06.462410Z",
     "shell.execute_reply": "2020-10-16T12:41:06.461753Z"
    },
    "papermill": {
     "duration": 0.192012,
     "end_time": "2020-10-16T12:41:06.462546",
     "exception": false,
     "start_time": "2020-10-16T12:41:06.270534",
     "status": "completed"
    },
    "tags": []
   },
   "outputs": [],
   "source": [
    "pred1stlevel_lgb = pd.read_csv('../input/pfs-model/predictionsLGB.csv')\n",
    "pred1stlevel_lgb.drop(columns='ID', inplace=True)"
   ]
  },
  {
   "cell_type": "code",
   "execution_count": 11,
   "metadata": {
    "execution": {
     "iopub.execute_input": "2020-10-16T12:41:06.535563Z",
     "iopub.status.busy": "2020-10-16T12:41:06.534559Z",
     "iopub.status.idle": "2020-10-16T12:41:06.538908Z",
     "shell.execute_reply": "2020-10-16T12:41:06.538288Z"
    },
    "papermill": {
     "duration": 0.042591,
     "end_time": "2020-10-16T12:41:06.539043",
     "exception": false,
     "start_time": "2020-10-16T12:41:06.496452",
     "status": "completed"
    },
    "tags": []
   },
   "outputs": [],
   "source": [
    "# contains the predictions from linear regression and xgboost for month 34, i.e. the test set\n",
    "X_test_level2 = np.c_[pred1stlevel_lr, pred1stlevel_lgb] "
   ]
  },
  {
   "cell_type": "code",
   "execution_count": 12,
   "metadata": {
    "execution": {
     "iopub.execute_input": "2020-10-16T12:41:06.614126Z",
     "iopub.status.busy": "2020-10-16T12:41:06.613225Z",
     "iopub.status.idle": "2020-10-16T12:41:06.618144Z",
     "shell.execute_reply": "2020-10-16T12:41:06.617548Z"
    },
    "papermill": {
     "duration": 0.04508,
     "end_time": "2020-10-16T12:41:06.618278",
     "exception": false,
     "start_time": "2020-10-16T12:41:06.573198",
     "status": "completed"
    },
    "tags": []
   },
   "outputs": [
    {
     "data": {
      "text/plain": [
       "array([[0.42273521, 0.49835429],\n",
       "       [0.28651476, 0.35191516],\n",
       "       [0.60307733, 1.36824878],\n",
       "       ...,\n",
       "       [0.09119959, 0.03589282],\n",
       "       [0.08322124, 0.03058733],\n",
       "       [0.08319306, 0.0212149 ]])"
      ]
     },
     "execution_count": 12,
     "metadata": {},
     "output_type": "execute_result"
    }
   ],
   "source": [
    "X_test_level2"
   ]
  },
  {
   "cell_type": "markdown",
   "metadata": {
    "papermill": {
     "duration": 0.034401,
     "end_time": "2020-10-16T12:41:06.687377",
     "exception": false,
     "start_time": "2020-10-16T12:41:06.652976",
     "status": "completed"
    },
    "tags": []
   },
   "source": [
    "# Train Meta Features"
   ]
  },
  {
   "cell_type": "code",
   "execution_count": 13,
   "metadata": {
    "execution": {
     "iopub.execute_input": "2020-10-16T12:41:06.785435Z",
     "iopub.status.busy": "2020-10-16T12:41:06.784404Z",
     "iopub.status.idle": "2020-10-16T12:41:06.789447Z",
     "shell.execute_reply": "2020-10-16T12:41:06.788829Z"
    },
    "papermill": {
     "duration": 0.067281,
     "end_time": "2020-10-16T12:41:06.789579",
     "exception": false,
     "start_time": "2020-10-16T12:41:06.722298",
     "status": "completed"
    },
    "tags": []
   },
   "outputs": [
    {
     "data": {
      "text/html": [
       "<div>\n",
       "<style scoped>\n",
       "    .dataframe tbody tr th:only-of-type {\n",
       "        vertical-align: middle;\n",
       "    }\n",
       "\n",
       "    .dataframe tbody tr th {\n",
       "        vertical-align: top;\n",
       "    }\n",
       "\n",
       "    .dataframe thead th {\n",
       "        text-align: right;\n",
       "    }\n",
       "</style>\n",
       "<table border=\"1\" class=\"dataframe\">\n",
       "  <thead>\n",
       "    <tr style=\"text-align: right;\">\n",
       "      <th></th>\n",
       "      <th>shop_id</th>\n",
       "      <th>item_id</th>\n",
       "      <th>date_block_num</th>\n",
       "      <th>item_category_id</th>\n",
       "      <th>days_per_month</th>\n",
       "      <th>month</th>\n",
       "      <th>city_code</th>\n",
       "      <th>item_bcat_code</th>\n",
       "      <th>item_scat_code</th>\n",
       "      <th>target_lag_1</th>\n",
       "      <th>...</th>\n",
       "      <th>monthly_transactions_lag_1</th>\n",
       "      <th>monthly_transactions_lag_2</th>\n",
       "      <th>monthly_transactions_lag_3</th>\n",
       "      <th>monthly_transactions_lag_4</th>\n",
       "      <th>monthly_transactions_lag_5</th>\n",
       "      <th>monthly_transactions_lag_12</th>\n",
       "      <th>price_trend</th>\n",
       "      <th>acc_price_lag</th>\n",
       "      <th>name_sqbrac</th>\n",
       "      <th>name_brac</th>\n",
       "    </tr>\n",
       "  </thead>\n",
       "  <tbody>\n",
       "    <tr>\n",
       "      <th>10675627</th>\n",
       "      <td>27</td>\n",
       "      <td>21279</td>\n",
       "      <td>32</td>\n",
       "      <td>61</td>\n",
       "      <td>30</td>\n",
       "      <td>9</td>\n",
       "      <td>12</td>\n",
       "      <td>8</td>\n",
       "      <td>20</td>\n",
       "      <td>0.0</td>\n",
       "      <td>...</td>\n",
       "      <td>0.0</td>\n",
       "      <td>0.0</td>\n",
       "      <td>54617.0</td>\n",
       "      <td>54548.0</td>\n",
       "      <td>0.0</td>\n",
       "      <td>0.0</td>\n",
       "      <td>0.0</td>\n",
       "      <td>0.000000</td>\n",
       "      <td>4</td>\n",
       "      <td>41</td>\n",
       "    </tr>\n",
       "    <tr>\n",
       "      <th>10675628</th>\n",
       "      <td>27</td>\n",
       "      <td>21283</td>\n",
       "      <td>32</td>\n",
       "      <td>61</td>\n",
       "      <td>30</td>\n",
       "      <td>9</td>\n",
       "      <td>12</td>\n",
       "      <td>8</td>\n",
       "      <td>20</td>\n",
       "      <td>0.0</td>\n",
       "      <td>...</td>\n",
       "      <td>0.0</td>\n",
       "      <td>0.0</td>\n",
       "      <td>54617.0</td>\n",
       "      <td>0.0</td>\n",
       "      <td>56274.0</td>\n",
       "      <td>73157.0</td>\n",
       "      <td>0.0</td>\n",
       "      <td>0.007758</td>\n",
       "      <td>4</td>\n",
       "      <td>41</td>\n",
       "    </tr>\n",
       "    <tr>\n",
       "      <th>10675629</th>\n",
       "      <td>27</td>\n",
       "      <td>21352</td>\n",
       "      <td>32</td>\n",
       "      <td>37</td>\n",
       "      <td>30</td>\n",
       "      <td>9</td>\n",
       "      <td>12</td>\n",
       "      <td>5</td>\n",
       "      <td>1</td>\n",
       "      <td>0.0</td>\n",
       "      <td>...</td>\n",
       "      <td>0.0</td>\n",
       "      <td>55549.0</td>\n",
       "      <td>0.0</td>\n",
       "      <td>54548.0</td>\n",
       "      <td>0.0</td>\n",
       "      <td>73157.0</td>\n",
       "      <td>0.0</td>\n",
       "      <td>-0.532101</td>\n",
       "      <td>4</td>\n",
       "      <td>548</td>\n",
       "    </tr>\n",
       "    <tr>\n",
       "      <th>10675630</th>\n",
       "      <td>27</td>\n",
       "      <td>21284</td>\n",
       "      <td>32</td>\n",
       "      <td>61</td>\n",
       "      <td>30</td>\n",
       "      <td>9</td>\n",
       "      <td>12</td>\n",
       "      <td>8</td>\n",
       "      <td>20</td>\n",
       "      <td>0.0</td>\n",
       "      <td>...</td>\n",
       "      <td>0.0</td>\n",
       "      <td>0.0</td>\n",
       "      <td>54617.0</td>\n",
       "      <td>0.0</td>\n",
       "      <td>0.0</td>\n",
       "      <td>0.0</td>\n",
       "      <td>0.0</td>\n",
       "      <td>0.000000</td>\n",
       "      <td>4</td>\n",
       "      <td>41</td>\n",
       "    </tr>\n",
       "    <tr>\n",
       "      <th>10675631</th>\n",
       "      <td>27</td>\n",
       "      <td>21105</td>\n",
       "      <td>32</td>\n",
       "      <td>61</td>\n",
       "      <td>30</td>\n",
       "      <td>9</td>\n",
       "      <td>12</td>\n",
       "      <td>8</td>\n",
       "      <td>20</td>\n",
       "      <td>0.0</td>\n",
       "      <td>...</td>\n",
       "      <td>0.0</td>\n",
       "      <td>0.0</td>\n",
       "      <td>0.0</td>\n",
       "      <td>0.0</td>\n",
       "      <td>0.0</td>\n",
       "      <td>0.0</td>\n",
       "      <td>0.0</td>\n",
       "      <td>0.000000</td>\n",
       "      <td>4</td>\n",
       "      <td>41</td>\n",
       "    </tr>\n",
       "  </tbody>\n",
       "</table>\n",
       "<p>5 rows × 43 columns</p>\n",
       "</div>"
      ],
      "text/plain": [
       "          shop_id  item_id  date_block_num  item_category_id  days_per_month  \\\n",
       "10675627       27    21279              32                61              30   \n",
       "10675628       27    21283              32                61              30   \n",
       "10675629       27    21352              32                37              30   \n",
       "10675630       27    21284              32                61              30   \n",
       "10675631       27    21105              32                61              30   \n",
       "\n",
       "          month  city_code  item_bcat_code  item_scat_code  target_lag_1  ...  \\\n",
       "10675627      9         12               8              20           0.0  ...   \n",
       "10675628      9         12               8              20           0.0  ...   \n",
       "10675629      9         12               5               1           0.0  ...   \n",
       "10675630      9         12               8              20           0.0  ...   \n",
       "10675631      9         12               8              20           0.0  ...   \n",
       "\n",
       "          monthly_transactions_lag_1  monthly_transactions_lag_2  \\\n",
       "10675627                         0.0                         0.0   \n",
       "10675628                         0.0                         0.0   \n",
       "10675629                         0.0                     55549.0   \n",
       "10675630                         0.0                         0.0   \n",
       "10675631                         0.0                         0.0   \n",
       "\n",
       "          monthly_transactions_lag_3  monthly_transactions_lag_4  \\\n",
       "10675627                     54617.0                     54548.0   \n",
       "10675628                     54617.0                         0.0   \n",
       "10675629                         0.0                     54548.0   \n",
       "10675630                     54617.0                         0.0   \n",
       "10675631                         0.0                         0.0   \n",
       "\n",
       "          monthly_transactions_lag_5  monthly_transactions_lag_12  \\\n",
       "10675627                         0.0                          0.0   \n",
       "10675628                     56274.0                      73157.0   \n",
       "10675629                         0.0                      73157.0   \n",
       "10675630                         0.0                          0.0   \n",
       "10675631                         0.0                          0.0   \n",
       "\n",
       "          price_trend  acc_price_lag  name_sqbrac  name_brac  \n",
       "10675627          0.0       0.000000            4         41  \n",
       "10675628          0.0       0.007758            4         41  \n",
       "10675629          0.0      -0.532101            4        548  \n",
       "10675630          0.0       0.000000            4         41  \n",
       "10675631          0.0       0.000000            4         41  \n",
       "\n",
       "[5 rows x 43 columns]"
      ]
     },
     "execution_count": 13,
     "metadata": {},
     "output_type": "execute_result"
    }
   ],
   "source": [
    "X_train.tail()"
   ]
  },
  {
   "cell_type": "code",
   "execution_count": 14,
   "metadata": {
    "execution": {
     "iopub.execute_input": "2020-10-16T12:41:06.868891Z",
     "iopub.status.busy": "2020-10-16T12:41:06.868077Z",
     "iopub.status.idle": "2020-10-16T12:41:06.988208Z",
     "shell.execute_reply": "2020-10-16T12:41:06.987498Z"
    },
    "papermill": {
     "duration": 0.162813,
     "end_time": "2020-10-16T12:41:06.988336",
     "exception": false,
     "start_time": "2020-10-16T12:41:06.825523",
     "status": "completed"
    },
    "tags": []
   },
   "outputs": [
    {
     "data": {
      "text/plain": [
       "(1614364,)"
      ]
     },
     "execution_count": 14,
     "metadata": {},
     "output_type": "execute_result"
    }
   ],
   "source": [
    "# target for meta features, i.e. the target variable for date_block_num 27-33\n",
    "y_train_level2 = all_data.target[all_data.date_block_num.isin([27, 28, 29, 30, 31, 32, 33])]\n",
    "y_train_level2.shape"
   ]
  },
  {
   "cell_type": "code",
   "execution_count": 15,
   "metadata": {
    "execution": {
     "iopub.execute_input": "2020-10-16T12:41:07.069876Z",
     "iopub.status.busy": "2020-10-16T12:41:07.068769Z",
     "iopub.status.idle": "2020-10-16T12:41:07.071308Z",
     "shell.execute_reply": "2020-10-16T12:41:07.071898Z"
    },
    "papermill": {
     "duration": 0.046751,
     "end_time": "2020-10-16T12:41:07.072064",
     "exception": false,
     "start_time": "2020-10-16T12:41:07.025313",
     "status": "completed"
    },
    "tags": []
   },
   "outputs": [],
   "source": [
    "# define 2nd model, same parameters as for first level prediction \n",
    "lgb_params = {\n",
    "               'feature_fraction': 0.75,\n",
    "               'metric': 'rmse',\n",
    "               'nthread':1, \n",
    "               'min_data_in_leaf': 2**7, \n",
    "               'bagging_fraction': 0.75, \n",
    "               'learning_rate': 0.03, \n",
    "               'objective': 'mse', \n",
    "               'bagging_seed': 2**7, \n",
    "               'num_leaves': 2**7,\n",
    "               'bagging_freq':1,\n",
    "               'verbose':1 \n",
    "              }"
   ]
  },
  {
   "cell_type": "markdown",
   "metadata": {
    "papermill": {
     "duration": 0.037015,
     "end_time": "2020-10-16T12:41:07.145258",
     "exception": false,
     "start_time": "2020-10-16T12:41:07.108243",
     "status": "completed"
    },
    "tags": []
   },
   "source": [
    "Run either next cell if the 2nd level feature matrix needs to be re-generated or use next cell to load the existing one. Generating the 2nd level feature matrix tages very long and is not needed every time.\n",
    "\n",
    "Change the next 2 cells back to code to generate the 2nd level feature matrix and save it.\n"
   ]
  },
  {
   "cell_type": "markdown",
   "metadata": {
    "papermill": {
     "duration": 0.035912,
     "end_time": "2020-10-16T12:41:07.217625",
     "exception": false,
     "start_time": "2020-10-16T12:41:07.181713",
     "status": "completed"
    },
    "tags": []
   },
   "source": [
    "\n",
    "ts = time.time()\n",
    "### create 2nd level feeature matrix, init it with zeros first\n",
    "X_train_level2 = np.zeros([y_train_level2.shape[0], 2])\n",
    "\n",
    "pred_lr_acc = []\n",
    "pred_lgb_acc = []\n",
    "\n",
    "### Now fill `X_train_level2` with metafeatures\n",
    "for cur_block_num in [27, 28, 29, 30, 31, 32, 33]:\n",
    "    \n",
    "    print(cur_block_num)\n",
    "    \n",
    "    '''\n",
    "        1. Split `X_train` into parts \n",
    "        2. Fit linear regression \n",
    "        3. Fit Lightgbm and put predictions          \n",
    "        4. Store predictions from 2. and 3. in a list         \n",
    "    '''      \n",
    "    \n",
    "    # 1.\n",
    "    X_train_split = all_data.loc[(all_data.date_block_num > 11) & (all_data.date_block_num < cur_block_num)] # training data: date_block_num 12-26/27/....32\n",
    "    X_test_split = all_data.loc[all_data.date_block_num == cur_block_num]  # testing data: date_block_num = 27/28/....33\n",
    "    y_train_split = all_data.loc[(all_data.date_block_num > 11) & (all_data.date_block_num < cur_block_num), 'target'].values #----- month numbers not yet consistant\n",
    "    y_test_split =  all_data.loc[all_data.date_block_num == cur_block_num, 'target'].values\n",
    "    X_train_split = X_train_split[columns] # get rid of 'target'column\n",
    "    X_test_split = X_test_split[columns] # get rid of 'target' column\n",
    "    print(X_train_split.shape)   \n",
    "    print(y_train_split.shape)\n",
    "    print(X_test_split.shape)\n",
    "    print(y_test_split.shape)\n",
    "    \n",
    "    #2.\n",
    "    lr.fit(X_train_split.values, y_train_split)\n",
    "    pred_lr = lr.predict(X_test_split.values)\n",
    "    # the predictions are made for exactly one month\n",
    "    print(pred_lr.shape)\n",
    "    pred_lr.tolist()\n",
    "    \n",
    "    #3.\n",
    "    lgbmodel = lgb.train(lgb_params, lgb.Dataset(X_train_split, label=y_train_split), 100)\n",
    "    pred_lgb = lgbmodel.predict(X_test_split)\n",
    "    # the predictions are made for exactly one month\n",
    "    print(pred_lgb.shape)\n",
    "    pred_lgb.tolist()\n",
    "    \n",
    "    #4.\n",
    "    pred_lr_acc.extend(pred_lr) # add monthly predictions to a list\n",
    "    pred_lgb_acc.extend(pred_lgb)\n",
    "    #print(pred_lr)\n",
    "    #print(pred_lgb)\n",
    "\n",
    "X_train_level2 = np.c_[pred_lr_acc, pred_lgb_acc]\n",
    "\n",
    "time.time() - ts"
   ]
  },
  {
   "cell_type": "markdown",
   "metadata": {
    "papermill": {
     "duration": 0.035873,
     "end_time": "2020-10-16T12:41:07.289337",
     "exception": false,
     "start_time": "2020-10-16T12:41:07.253464",
     "status": "completed"
    },
    "tags": []
   },
   "source": [
    "### save X_train_level2 \n",
    "X_train_level2df = pd.DataFrame(X_train_level2)\n",
    "X_train_level2df.columns = ['pred_lr', 'pred_lgb']\n",
    "date_block_num_lev2 = all_data.date_block_num[all_data.date_block_num.isin([27, 28, 29, 30, 31, 32, 33])]\n",
    "X_train_level2df['date_block_num'] = date_block_num_lev2.values\n",
    "X_train_level2df.to_csv('X_train_level2.csv', index=False)"
   ]
  },
  {
   "cell_type": "code",
   "execution_count": 16,
   "metadata": {
    "execution": {
     "iopub.execute_input": "2020-10-16T12:41:07.371051Z",
     "iopub.status.busy": "2020-10-16T12:41:07.370045Z",
     "iopub.status.idle": "2020-10-16T12:41:07.372787Z",
     "shell.execute_reply": "2020-10-16T12:41:07.373523Z"
    },
    "papermill": {
     "duration": 0.047581,
     "end_time": "2020-10-16T12:41:07.373693",
     "exception": false,
     "start_time": "2020-10-16T12:41:07.326112",
     "status": "completed"
    },
    "tags": []
   },
   "outputs": [],
   "source": [
    "# make scatter plot, take long\n",
    "#x = pred_lr_acc  # =X_train_level2[:,0]\n",
    "#y = pred_lgb_acc # =X_train_level2[:,1]\n",
    "\n",
    "#plt.scatter(x, y)\n",
    "#plt.show()"
   ]
  },
  {
   "cell_type": "code",
   "execution_count": 17,
   "metadata": {
    "execution": {
     "iopub.execute_input": "2020-10-16T12:41:07.454303Z",
     "iopub.status.busy": "2020-10-16T12:41:07.453401Z",
     "iopub.status.idle": "2020-10-16T12:41:08.459131Z",
     "shell.execute_reply": "2020-10-16T12:41:08.458348Z"
    },
    "papermill": {
     "duration": 1.049128,
     "end_time": "2020-10-16T12:41:08.459269",
     "exception": false,
     "start_time": "2020-10-16T12:41:07.410141",
     "status": "completed"
    },
    "tags": []
   },
   "outputs": [
    {
     "data": {
      "text/plain": [
       "array([[0.26024273, 0.58960767],\n",
       "       [1.03049882, 2.3276679 ],\n",
       "       [0.38913534, 0.44281764],\n",
       "       ...,\n",
       "       [0.18638149, 0.12290865],\n",
       "       [0.18685823, 0.0554179 ],\n",
       "       [0.18248646, 0.05290426]])"
      ]
     },
     "execution_count": 17,
     "metadata": {},
     "output_type": "execute_result"
    }
   ],
   "source": [
    "# read in X_train_level2df from disk as it takes ages to create it\n",
    "X_train_level2df = pd.read_csv('../input/x-train-level2/X_train_level2.csv')\n",
    "X_train_level2df.head()\n",
    "X_train_level2 = X_train_level2df.drop(columns=\"date_block_num\")\n",
    "X_train_level2 = X_train_level2.to_numpy() # convert back to numpy array\n",
    "X_train_level2"
   ]
  },
  {
   "cell_type": "code",
   "execution_count": 18,
   "metadata": {
    "execution": {
     "iopub.execute_input": "2020-10-16T12:41:08.539645Z",
     "iopub.status.busy": "2020-10-16T12:41:08.538824Z",
     "iopub.status.idle": "2020-10-16T12:41:08.658372Z",
     "shell.execute_reply": "2020-10-16T12:41:08.657505Z"
    },
    "papermill": {
     "duration": 0.162216,
     "end_time": "2020-10-16T12:41:08.658518",
     "exception": false,
     "start_time": "2020-10-16T12:41:08.496302",
     "status": "completed"
    },
    "tags": []
   },
   "outputs": [
    {
     "data": {
      "text/plain": [
       "(1614364,)"
      ]
     },
     "execution_count": 18,
     "metadata": {},
     "output_type": "execute_result"
    }
   ],
   "source": [
    "# get y_train_level2\n",
    "y_train_level2 = all_data.loc[(all_data.date_block_num.isin([27, 28, 29, 30, 31, 32, 33])),'target']\n",
    "y_train_level2.shape"
   ]
  },
  {
   "cell_type": "markdown",
   "metadata": {
    "papermill": {
     "duration": 0.037166,
     "end_time": "2020-10-16T12:41:08.733498",
     "exception": false,
     "start_time": "2020-10-16T12:41:08.696332",
     "status": "completed"
    },
    "tags": []
   },
   "source": [
    "# Ensembling\n",
    "## Simple Convex Mix\n",
    "I tried to different metrics, R2 and rsme. They gave me opposite extreme results for alpha. Still dont understand why. Suggestions are welcome!"
   ]
  },
  {
   "cell_type": "code",
   "execution_count": 19,
   "metadata": {
    "execution": {
     "iopub.execute_input": "2020-10-16T12:41:08.821487Z",
     "iopub.status.busy": "2020-10-16T12:41:08.819691Z",
     "iopub.status.idle": "2020-10-16T12:41:32.201113Z",
     "shell.execute_reply": "2020-10-16T12:41:32.200497Z"
    },
    "papermill": {
     "duration": 23.430279,
     "end_time": "2020-10-16T12:41:32.201242",
     "exception": false,
     "start_time": "2020-10-16T12:41:08.770963",
     "status": "completed"
    },
    "tags": []
   },
   "outputs": [
    {
     "name": "stdout",
     "output_type": "stream",
     "text": [
      "Best alpha: 0.000000; Corresponding r2 score on train: 0.396893\n"
     ]
    },
    {
     "data": {
      "text/plain": [
       "23.37584376335144"
      ]
     },
     "execution_count": 19,
     "metadata": {},
     "output_type": "execute_result"
    }
   ],
   "source": [
    "### using metrix r2\n",
    "ts = time.time()\n",
    "alphas_to_try = np.linspace(0, 1, 1001)\n",
    "alpha_r2_score = []\n",
    "\n",
    "for alpha in alphas_to_try:\n",
    "    mixed_pred = alpha * X_train_level2[:,0] + (1-alpha) * X_train_level2[:,1]\n",
    "    r2_score_a = r2_score(y_train_level2, mixed_pred)\n",
    "    alpha_r2_score.extend([[alpha, r2_score_a]])\n",
    "\n",
    "alpha_r2_score = pd.DataFrame(alpha_r2_score) # maybe there is a faster way using arrays or lists, but I don't know it\n",
    "\n",
    "r2_train_simple_mix = alpha_r2_score[1].max() # get maximum r2 value\n",
    "best_alpha = alpha_r2_score[0][alpha_r2_score[1] == r2_train_simple_mix].values # go to row with maximum r2 value and get alpha for it\n",
    "\n",
    "print('Best alpha: %f; Corresponding r2 score on train: %f' % (best_alpha, r2_train_simple_mix))\n",
    "time.time() - ts"
   ]
  },
  {
   "cell_type": "markdown",
   "metadata": {
    "papermill": {
     "duration": 0.038027,
     "end_time": "2020-10-16T12:41:32.278218",
     "exception": false,
     "start_time": "2020-10-16T12:41:32.240191",
     "status": "completed"
    },
    "tags": []
   },
   "source": [
    "### using metric rmse\n",
    "ts = time.time()\n",
    "alphas_to_try = np.linspace(0, 1, 1001)\n",
    "alpha_rmse_score = []\n",
    "\n",
    "for alpha in alphas_to_try:\n",
    "    mixed_pred = alpha * X_train_level2[:,0] + (1-alpha) * X_train_level2[:,1]\n",
    "    rmse_score_a = mean_squared_error(y_train_level2, mixed_pred,squared=False)\n",
    "    alpha_rmse_score.extend([[alpha, rmse_score_a]])\n",
    "\n",
    "alpha_rmse_score = pd.DataFrame(alpha_rmse_score) # maybe there is a faster way using arrays or lists, but I don't know it\n",
    "\n",
    "rsme_train_simple_mix = alpha_rmse_score[1].max() # get maximum rmse value\n",
    "best_alpha = alpha_rmse_score[0][alpha_rmse_score[1] == rsme_train_simple_mix].values # go to row with maximum r2 value and get alpha for it\n",
    "\n",
    "print('Best alpha: %f; Corresponding rmse score on train: %f' % (best_alpha, rsme_train_simple_mix))\n",
    "time.time() - ts"
   ]
  },
  {
   "cell_type": "markdown",
   "metadata": {
    "papermill": {
     "duration": 0.039112,
     "end_time": "2020-10-16T12:41:32.355984",
     "exception": false,
     "start_time": "2020-10-16T12:41:32.316872",
     "status": "completed"
    },
    "tags": []
   },
   "source": [
    "Metric r2: The linreg is so bad that the results are not used, haha. \n",
    "\n",
    "Metric rmse: Now only the linreg is used. pfff, why?"
   ]
  },
  {
   "cell_type": "code",
   "execution_count": 20,
   "metadata": {
    "execution": {
     "iopub.execute_input": "2020-10-16T12:41:32.438600Z",
     "iopub.status.busy": "2020-10-16T12:41:32.437658Z",
     "iopub.status.idle": "2020-10-16T12:41:32.442823Z",
     "shell.execute_reply": "2020-10-16T12:41:32.442084Z"
    },
    "papermill": {
     "duration": 0.048613,
     "end_time": "2020-10-16T12:41:32.442997",
     "exception": false,
     "start_time": "2020-10-16T12:41:32.394384",
     "status": "completed"
    },
    "tags": []
   },
   "outputs": [],
   "source": [
    "#calculate predictions for simple mix\n",
    "test_preds = best_alpha * X_test_level2[:,0] + (1-best_alpha) * X_test_level2[:,1]"
   ]
  },
  {
   "cell_type": "code",
   "execution_count": 21,
   "metadata": {
    "execution": {
     "iopub.execute_input": "2020-10-16T12:41:32.527124Z",
     "iopub.status.busy": "2020-10-16T12:41:32.526314Z",
     "iopub.status.idle": "2020-10-16T12:41:33.468119Z",
     "shell.execute_reply": "2020-10-16T12:41:33.467213Z"
    },
    "papermill": {
     "duration": 0.986071,
     "end_time": "2020-10-16T12:41:33.468260",
     "exception": false,
     "start_time": "2020-10-16T12:41:32.482189",
     "status": "completed"
    },
    "tags": []
   },
   "outputs": [],
   "source": [
    "# save predictions from simple mix \n",
    "preds_ensemb_simple =  pd.DataFrame({\n",
    "    \"ID\": df_test.index, \n",
    "    \"item_cnt_month\": test_preds\n",
    "})\n",
    "preds_ensemb_simple.to_csv('preds_ensemb_simple.csv', index=False)"
   ]
  },
  {
   "cell_type": "markdown",
   "metadata": {
    "papermill": {
     "duration": 0.038596,
     "end_time": "2020-10-16T12:41:33.546001",
     "exception": false,
     "start_time": "2020-10-16T12:41:33.507405",
     "status": "completed"
    },
    "tags": []
   },
   "source": [
    "## Stacking"
   ]
  },
  {
   "cell_type": "code",
   "execution_count": 22,
   "metadata": {
    "execution": {
     "iopub.execute_input": "2020-10-16T12:41:33.630263Z",
     "iopub.status.busy": "2020-10-16T12:41:33.629451Z",
     "iopub.status.idle": "2020-10-16T12:41:33.713608Z",
     "shell.execute_reply": "2020-10-16T12:41:33.712732Z"
    },
    "papermill": {
     "duration": 0.128759,
     "end_time": "2020-10-16T12:41:33.713772",
     "exception": false,
     "start_time": "2020-10-16T12:41:33.585013",
     "status": "completed"
    },
    "tags": []
   },
   "outputs": [],
   "source": [
    "# my comments: run Linear Regression on X_train_level2 (2 features)\n",
    "# training data is from date_block_num 27-33, test data is date_block_num 34\n",
    "lr = LinearRegression()\n",
    "lr.fit(X_train_level2, y_train_level2)\n",
    "y_hat_level2 = lr.predict(X_test_level2)"
   ]
  },
  {
   "cell_type": "code",
   "execution_count": 23,
   "metadata": {
    "execution": {
     "iopub.execute_input": "2020-10-16T12:41:33.802185Z",
     "iopub.status.busy": "2020-10-16T12:41:33.801232Z",
     "iopub.status.idle": "2020-10-16T12:41:33.806224Z",
     "shell.execute_reply": "2020-10-16T12:41:33.805532Z"
    },
    "papermill": {
     "duration": 0.049506,
     "end_time": "2020-10-16T12:41:33.806381",
     "exception": false,
     "start_time": "2020-10-16T12:41:33.756875",
     "status": "completed"
    },
    "tags": []
   },
   "outputs": [
    {
     "data": {
      "text/plain": [
       "(214200,)"
      ]
     },
     "execution_count": 23,
     "metadata": {},
     "output_type": "execute_result"
    }
   ],
   "source": [
    "y_hat_level2.shape"
   ]
  },
  {
   "cell_type": "code",
   "execution_count": 24,
   "metadata": {
    "execution": {
     "iopub.execute_input": "2020-10-16T12:41:33.896867Z",
     "iopub.status.busy": "2020-10-16T12:41:33.895902Z",
     "iopub.status.idle": "2020-10-16T12:41:34.850337Z",
     "shell.execute_reply": "2020-10-16T12:41:34.849283Z"
    },
    "papermill": {
     "duration": 1.000742,
     "end_time": "2020-10-16T12:41:34.850536",
     "exception": false,
     "start_time": "2020-10-16T12:41:33.849794",
     "status": "completed"
    },
    "tags": []
   },
   "outputs": [],
   "source": [
    "# create final submission file\n",
    "submission = pd.DataFrame({\n",
    "    \"ID\": df_test.index, \n",
    "    \"item_cnt_month\": y_hat_level2\n",
    "})\n",
    "submission.to_csv('stacked_submission.csv', index=False)"
   ]
  },
  {
   "cell_type": "code",
   "execution_count": 25,
   "metadata": {
    "execution": {
     "iopub.execute_input": "2020-10-16T12:41:34.943998Z",
     "iopub.status.busy": "2020-10-16T12:41:34.943208Z",
     "iopub.status.idle": "2020-10-16T12:41:34.947139Z",
     "shell.execute_reply": "2020-10-16T12:41:34.946337Z"
    },
    "papermill": {
     "duration": 0.048935,
     "end_time": "2020-10-16T12:41:34.947272",
     "exception": false,
     "start_time": "2020-10-16T12:41:34.898337",
     "status": "completed"
    },
    "tags": []
   },
   "outputs": [],
   "source": [
    "import pickle\n",
    "filename = 'finalized_ensemble_model.sav'\n",
    "pickle.dump(lr, open(filename, 'wb'))"
   ]
  },
  {
   "cell_type": "code",
   "execution_count": 26,
   "metadata": {
    "execution": {
     "iopub.execute_input": "2020-10-16T12:41:35.035705Z",
     "iopub.status.busy": "2020-10-16T12:41:35.034120Z",
     "iopub.status.idle": "2020-10-16T12:41:35.075290Z",
     "shell.execute_reply": "2020-10-16T12:41:35.074612Z"
    },
    "papermill": {
     "duration": 0.087949,
     "end_time": "2020-10-16T12:41:35.075452",
     "exception": false,
     "start_time": "2020-10-16T12:41:34.987503",
     "status": "completed"
    },
    "tags": []
   },
   "outputs": [
    {
     "name": "stdout",
     "output_type": "stream",
     "text": [
      "Train R-squared for stacking is 0.397220\n",
      "Train RMSE for linreg is 0.842216\n"
     ]
    }
   ],
   "source": [
    "train_preds = lr.predict(X_train_level2)\n",
    "r2_train_stacking = r2_score(y_train_level2, train_preds)\n",
    "\n",
    "print('Train R-squared for stacking is %f' % r2_train_stacking)\n",
    "print('Train RMSE for linreg is %f' % mean_squared_error(y_train_level2, train_preds,squared=False))\n"
   ]
  },
  {
   "cell_type": "code",
   "execution_count": null,
   "metadata": {
    "papermill": {
     "duration": 0.040625,
     "end_time": "2020-10-16T12:41:35.157224",
     "exception": false,
     "start_time": "2020-10-16T12:41:35.116599",
     "status": "completed"
    },
    "tags": []
   },
   "outputs": [],
   "source": []
  }
 ],
 "metadata": {
  "kernelspec": {
   "display_name": "Python 3",
   "language": "python",
   "name": "python3"
  },
  "language_info": {
   "codemirror_mode": {
    "name": "ipython",
    "version": 3
   },
   "file_extension": ".py",
   "mimetype": "text/x-python",
   "name": "python",
   "nbconvert_exporter": "python",
   "pygments_lexer": "ipython3",
   "version": "3.7.6"
  },
  "papermill": {
   "duration": 63.267749,
   "end_time": "2020-10-16T12:41:35.407827",
   "environment_variables": {},
   "exception": null,
   "input_path": "__notebook__.ipynb",
   "output_path": "__notebook__.ipynb",
   "parameters": {},
   "start_time": "2020-10-16T12:40:32.140078",
   "version": "2.1.0"
  }
 },
 "nbformat": 4,
 "nbformat_minor": 4
}
